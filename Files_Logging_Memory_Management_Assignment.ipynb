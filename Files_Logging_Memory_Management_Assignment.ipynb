{
  "nbformat": 4,
  "nbformat_minor": 0,
  "metadata": {
    "colab": {
      "provenance": []
    },
    "kernelspec": {
      "name": "python3",
      "display_name": "Python 3"
    },
    "language_info": {
      "name": "python"
    }
  },
  "cells": [
    {
      "cell_type": "markdown",
      "source": [
        "#Assignment\n",
        "\n",
        "1. Interpreted languages execute code line-by-line at runtime (e.g., Python), while compiled languages are converted into machine code before execution (e.g., C, Java).\n",
        "\n",
        "2. Exception handling in Python allows developers to manage errors using try, except, finally, and else blocks to prevent program crashes.\n",
        "\n",
        "3.\n",
        "The finally block is used to execute code regardless of whether an exception occurred, such as closing files or releasing resources.\n",
        "\n",
        "4.\n",
        "Logging in Python refers to tracking events that happen when some software runs. It's useful for debugging and monitoring.\n",
        "\n",
        "5.\n",
        "The __del__ method is a destructor method called when an object is about to be destroyed, used for cleanup tasks.\n",
        "\n",
        "6.\n",
        "‘import module’ imports the whole module; ‘from module import item’ imports only specific functions, classes, or variables.\n",
        "\n",
        "7.\n",
        "You can handle multiple exceptions using multiple except blocks or a single block with a tuple of exceptions.\n",
        "\n",
        "8.\n",
        "The with statement is used for resource management, like file handling, ensuring the file is closed automatically.\n",
        "\n",
        "9.\n",
        "Multithreading runs multiple threads in the same process, sharing memory. Multiprocessing runs separate processes with separate memory.\n",
        "\n",
        "10.\n",
        "Logging helps trace issues, track operations, and provide useful debugging info, especially in larger applications.\n",
        "\n",
        "11.\n",
        "Memory management in Python includes automatic memory allocation and garbage collection.\n",
        "\n",
        "12.\n",
        "Try block for risky code, except to catch exceptions, else for code to run when no exceptions occur, and finally for cleanup.\n",
        "\n",
        "13.\n",
        "Efficient memory management avoids memory leaks, reduces resource consumption, and maintains performance.\n",
        "\n",
        "14.\n",
        "try block contains the code that might fail; except handles the errors gracefully.\n",
        "\n",
        "15.\n",
        "Python uses reference counting and a cyclic garbage collector to free unused memory automatically.\n",
        "\n",
        "16.\n",
        "The else block in exception handling executes if no exception occurs in the try block.\n",
        "\n",
        "17.\n",
        "DEBUG, INFO, WARNING, ERROR, CRITICAL are the standard logging levels in Python.\n",
        "\n",
        "18.\n",
        "os.fork() creates a child process (Unix only), while multiprocessing is cross-platform and better for process-based concurrency.\n",
        "\n",
        "19.\n",
        "Closing a file ensures all data is written and resources are released properly.\n",
        "\n",
        "20.\n",
        "file.read() reads the whole file at once, while file.readline() reads a single line at a time.\n",
        "\n",
        "21.\n",
        "The logging module in Python is used to record log messages and track events.\n",
        "\n",
        "22.\n",
        "The os module provides functions for interacting with the operating system like file path manipulations and directory operations.\n",
        "\n",
        "23.\n",
        "Challenges include handling circular references and managing memory in long-running or resource-intensive applications.\n",
        "\n",
        "24.\n",
        "Use raise statement, e.g., raise ValueError('Invalid input').\n",
        "\n",
        "25.\n",
        "Multithreading is useful in I/O-bound applications to improve performance by performing tasks concurrently.\n"
      ],
      "metadata": {
        "id": "c9Dw8mrmuG5N"
      }
    },
    {
      "cell_type": "code",
      "source": [
        "# Practical"
      ],
      "metadata": {
        "id": "LzEGx2tybqk5"
      },
      "execution_count": null,
      "outputs": []
    },
    {
      "cell_type": "code",
      "source": [
        "# 1.How can you open a file for writing in Python and write a string to it?\n",
        "\n",
        "with open(\"output.txt\", \"w\") as f:\n",
        "    f.write(\"Hello, world!\")"
      ],
      "metadata": {
        "id": "lAhcV_ytbwYG"
      },
      "execution_count": 7,
      "outputs": []
    },
    {
      "cell_type": "code",
      "source": [
        "# 2.Write a Python program to read the contents of a file and print each line.\n",
        "\n",
        "with open(\"file.txt\", \"r\") as f:\n",
        "    for line in f:\n",
        "        print(line.strip())\n"
      ],
      "metadata": {
        "colab": {
          "base_uri": "https://localhost:8080/"
        },
        "id": "4cRBL-XRb69d",
        "outputId": "88512007-8af0-4bd4-fe30-1989936a65d1"
      },
      "execution_count": 8,
      "outputs": [
        {
          "output_type": "stream",
          "name": "stdout",
          "text": [
            "This is the first line.\n",
            "This is the second line.\n",
            "And this is the third line.\n"
          ]
        }
      ]
    },
    {
      "cell_type": "code",
      "source": [
        "# 3. How would you handle a case where the file doesn’t exist while trying to open it for reading?\n",
        "try:\n",
        "    with open(\"missing.txt\", \"r\") as f:\n",
        "        data = f.read()\n",
        "except FileNotFoundError:\n",
        "    print(\"File not found.\")\n"
      ],
      "metadata": {
        "colab": {
          "base_uri": "https://localhost:8080/"
        },
        "id": "Dcf1nt3TcCXc",
        "outputId": "344e8e02-1c61-4781-c7a6-fdc3a0c3840b"
      },
      "execution_count": 9,
      "outputs": [
        {
          "output_type": "stream",
          "name": "stdout",
          "text": [
            "File not found.\n"
          ]
        }
      ]
    },
    {
      "cell_type": "code",
      "source": [
        "# 4. Write a Python script that reads from one file and writes its content to another file.\n",
        "\n",
        "with open(\"input.txt\", \"r\") as source, open(\"output.txt\", \"w\") as destination:\n",
        "    destination.write(source.read())"
      ],
      "metadata": {
        "colab": {
          "base_uri": "https://localhost:8080/",
          "height": 201
        },
        "id": "7daxDzsLcHqe",
        "outputId": "e4b59ec2-4c0e-4615-cd85-0a2f39e3b4e4"
      },
      "execution_count": 10,
      "outputs": [
        {
          "output_type": "error",
          "ename": "FileNotFoundError",
          "evalue": "[Errno 2] No such file or directory: 'input.txt'",
          "traceback": [
            "\u001b[0;31m---------------------------------------------------------------------------\u001b[0m",
            "\u001b[0;31mFileNotFoundError\u001b[0m                         Traceback (most recent call last)",
            "\u001b[0;32m<ipython-input-10-4ddc91bc65db>\u001b[0m in \u001b[0;36m<cell line: 0>\u001b[0;34m()\u001b[0m\n\u001b[1;32m      1\u001b[0m \u001b[0;31m# 4. Write a Python script that reads from one file and writes its content to another file.\u001b[0m\u001b[0;34m\u001b[0m\u001b[0;34m\u001b[0m\u001b[0m\n\u001b[1;32m      2\u001b[0m \u001b[0;34m\u001b[0m\u001b[0m\n\u001b[0;32m----> 3\u001b[0;31m \u001b[0;32mwith\u001b[0m \u001b[0mopen\u001b[0m\u001b[0;34m(\u001b[0m\u001b[0;34m\"input.txt\"\u001b[0m\u001b[0;34m,\u001b[0m \u001b[0;34m\"r\"\u001b[0m\u001b[0;34m)\u001b[0m \u001b[0;32mas\u001b[0m \u001b[0msource\u001b[0m\u001b[0;34m,\u001b[0m \u001b[0mopen\u001b[0m\u001b[0;34m(\u001b[0m\u001b[0;34m\"output.txt\"\u001b[0m\u001b[0;34m,\u001b[0m \u001b[0;34m\"w\"\u001b[0m\u001b[0;34m)\u001b[0m \u001b[0;32mas\u001b[0m \u001b[0mdestination\u001b[0m\u001b[0;34m:\u001b[0m\u001b[0;34m\u001b[0m\u001b[0;34m\u001b[0m\u001b[0m\n\u001b[0m\u001b[1;32m      4\u001b[0m     \u001b[0mdestination\u001b[0m\u001b[0;34m.\u001b[0m\u001b[0mwrite\u001b[0m\u001b[0;34m(\u001b[0m\u001b[0msource\u001b[0m\u001b[0;34m.\u001b[0m\u001b[0mread\u001b[0m\u001b[0;34m(\u001b[0m\u001b[0;34m)\u001b[0m\u001b[0;34m)\u001b[0m\u001b[0;34m\u001b[0m\u001b[0;34m\u001b[0m\u001b[0m\n",
            "\u001b[0;31mFileNotFoundError\u001b[0m: [Errno 2] No such file or directory: 'input.txt'"
          ]
        }
      ]
    },
    {
      "cell_type": "code",
      "source": [
        "# 5. How would you catch and handle division by zero error in Python?\n",
        "try:\n",
        "    result = 10 / 0\n",
        "except ZeroDivisionError:\n",
        "    print(\"Cannot divide by zero.\")\n"
      ],
      "metadata": {
        "colab": {
          "base_uri": "https://localhost:8080/"
        },
        "id": "pSEHVnblcUCQ",
        "outputId": "ffd1698b-cf77-4597-f4c8-ee3b10315203"
      },
      "execution_count": 11,
      "outputs": [
        {
          "output_type": "stream",
          "name": "stdout",
          "text": [
            "Cannot divide by zero.\n"
          ]
        }
      ]
    },
    {
      "cell_type": "code",
      "source": [
        "# 6. Write a Python program that logs an error message to a log file when a division by zero exception occurs.\n",
        "\n",
        "import logging\n",
        "\n",
        "logging.basicConfig(filename='error.log', level=logging.ERROR)\n",
        "\n",
        "try:\n",
        "    1 / 0\n",
        "except ZeroDivisionError as e:\n",
        "    logging.error(\"Division by zero error: %s\", e)\n"
      ],
      "metadata": {
        "colab": {
          "base_uri": "https://localhost:8080/"
        },
        "id": "wpHFrKVkcYlg",
        "outputId": "9a40a09e-7c08-4c28-c248-3090c614aa84"
      },
      "execution_count": 12,
      "outputs": [
        {
          "output_type": "stream",
          "name": "stderr",
          "text": [
            "ERROR:root:Division by zero error: division by zero\n"
          ]
        }
      ]
    },
    {
      "cell_type": "code",
      "source": [
        "# 7. How do you log information at different levels (INFO, ERROR, WARNING) in Python using the logging module?\n",
        "import logging\n",
        "\n",
        "logging.basicConfig(level=logging.DEBUG)\n",
        "logging.debug(\"This is a debug message\")\n",
        "logging.info(\"This is an info message\")\n",
        "logging.warning(\"This is a warning message\")\n",
        "logging.error(\"This is an error message\")\n"
      ],
      "metadata": {
        "colab": {
          "base_uri": "https://localhost:8080/"
        },
        "id": "NpPYkJjzcenG",
        "outputId": "1af43e0c-c5d4-4738-84da-e50746bc30b3"
      },
      "execution_count": 13,
      "outputs": [
        {
          "output_type": "stream",
          "name": "stderr",
          "text": [
            "WARNING:root:This is a warning message\n",
            "ERROR:root:This is an error message\n"
          ]
        }
      ]
    },
    {
      "cell_type": "code",
      "source": [
        "# 8. Write a program to handle a file opening error using exception handling.\n",
        "\n",
        "try:\n",
        "    with open(\"file.txt\", \"r\") as f:\n",
        "        content = f.read()\n",
        "except FileNotFoundError:\n",
        "    print(\"File not found.\")"
      ],
      "metadata": {
        "id": "plEliC3ocq84"
      },
      "execution_count": 15,
      "outputs": []
    },
    {
      "cell_type": "code",
      "source": [
        "#  9. How can you read a file line by line and store its content in a list in Python?\n",
        "\n",
        "with open(\"file.txt\", \"a\") as f:\n",
        "    f.write(\"This is an appended line.\\n\")"
      ],
      "metadata": {
        "id": "1dLlVexqcyLO"
      },
      "execution_count": 17,
      "outputs": []
    },
    {
      "cell_type": "code",
      "source": [
        "# 10. How can you append data to an existing file in Python?\n",
        "\n",
        "with open(\"file.txt\", \"a\") as f:\n",
        "    f.write(\"This is an appended line.\\n\")\n"
      ],
      "metadata": {
        "id": "sTz0HymIc428"
      },
      "execution_count": 18,
      "outputs": []
    },
    {
      "cell_type": "code",
      "source": [
        "# 11. Write a Python program that uses a try-except block to handle an error when attempting to access a dictionary key that doesn’t exist.\n",
        "\n",
        "data = {\"name\": \"John\"}\n",
        "try:\n",
        "    print(data[\"age\"])\n",
        "except KeyError:\n",
        "    print(\"Key not found.\")\n"
      ],
      "metadata": {
        "colab": {
          "base_uri": "https://localhost:8080/"
        },
        "id": "nQxvD06_c_f9",
        "outputId": "856b60be-fcae-4070-9a97-aa59c0007156"
      },
      "execution_count": 19,
      "outputs": [
        {
          "output_type": "stream",
          "name": "stdout",
          "text": [
            "Key not found.\n"
          ]
        }
      ]
    },
    {
      "cell_type": "code",
      "source": [
        "# 12. Write a program that demonstrates using multiple except blocks to handle different types of exceptions.\n",
        "\n",
        "try:\n",
        "    a = [1, 2, 3]\n",
        "    print(a[5])\n",
        "    d = {\"a\": 1}\n",
        "    print(d[\"b\"])\n",
        "except IndexError:\n",
        "    print(\"Index out of range.\")\n",
        "except KeyError:\n",
        "    print(\"Key not found.\")\n",
        "\n"
      ],
      "metadata": {
        "colab": {
          "base_uri": "https://localhost:8080/"
        },
        "id": "rvLi8SeudG-V",
        "outputId": "2bbf8de5-f259-4d23-e07c-ccebabe93825"
      },
      "execution_count": 20,
      "outputs": [
        {
          "output_type": "stream",
          "name": "stdout",
          "text": [
            "Index out of range.\n"
          ]
        }
      ]
    },
    {
      "cell_type": "code",
      "source": [
        "# 13. How would you check if a file exists before attempting to read it in Python?\n",
        "import os\n",
        "\n",
        "if os.path.exists(\"file.txt\"):\n",
        "    with open(\"file.txt\", \"r\") as f:\n",
        "        print(f.read())\n",
        "else:\n",
        "    print(\"File does not exist.\")\n"
      ],
      "metadata": {
        "colab": {
          "base_uri": "https://localhost:8080/"
        },
        "id": "EUg48d0mdMeR",
        "outputId": "8e8de2a0-5e23-4eee-8e74-c5cb0c48f9ca"
      },
      "execution_count": 21,
      "outputs": [
        {
          "output_type": "stream",
          "name": "stdout",
          "text": [
            "This is the first line.\n",
            "This is the second line.\n",
            "And this is the third line.\n",
            "This is an appended line.\n",
            "This is an appended line.\n",
            "This is an appended line.\n",
            "\n"
          ]
        }
      ]
    },
    {
      "cell_type": "code",
      "source": [
        "# 14. Write a program that uses the logging module to log both informational and error messages.\n",
        "\n",
        "import logging\n",
        "\n",
        "logging.basicConfig(filename=\"logfile.log\", level=logging.INFO)\n",
        "logging.info(\"Program started\")\n",
        "try:\n",
        "    10 / 0\n",
        "except ZeroDivisionError as e:\n",
        "    logging.error(\"Error: %s\", e)\n"
      ],
      "metadata": {
        "colab": {
          "base_uri": "https://localhost:8080/"
        },
        "id": "yVrFEmjqtQs0",
        "outputId": "2f4c0aac-d9ba-4323-df87-6ebab046fe9a"
      },
      "execution_count": 22,
      "outputs": [
        {
          "output_type": "stream",
          "name": "stderr",
          "text": [
            "ERROR:root:Error: division by zero\n"
          ]
        }
      ]
    },
    {
      "cell_type": "code",
      "source": [
        "# 15. Write a Python program that prints the content of a file and handles the case when the file is empty.\n",
        "\n",
        "with open(\"file.txt\", \"r\") as f:\n",
        "    content = f.read()\n",
        "    if not content:\n",
        "        print(\"File is empty.\")\n",
        "    else:\n",
        "        print(content)\n"
      ],
      "metadata": {
        "colab": {
          "base_uri": "https://localhost:8080/"
        },
        "id": "uMqBfMTPtVZ-",
        "outputId": "f32bb237-0218-4402-96fc-4074864dacad"
      },
      "execution_count": 23,
      "outputs": [
        {
          "output_type": "stream",
          "name": "stdout",
          "text": [
            "This is the first line.\n",
            "This is the second line.\n",
            "And this is the third line.\n",
            "This is an appended line.\n",
            "This is an appended line.\n",
            "This is an appended line.\n",
            "\n"
          ]
        }
      ]
    },
    {
      "cell_type": "code",
      "source": [
        "# 16. Demonstrate how to use memory profiling to check the memory usage of a small program.\n",
        "\n",
        "import tracemalloc\n",
        "\n",
        "tracemalloc.start()\n",
        "x = [i for i in range(10000)]\n",
        "current, peak = tracemalloc.get_traced_memory()\n",
        "print(f\"Current memory usage: {current}, Peak: {peak}\")\n",
        "tracemalloc.stop()\n"
      ],
      "metadata": {
        "colab": {
          "base_uri": "https://localhost:8080/"
        },
        "id": "7Af-Vj2CtbLM",
        "outputId": "dfffc133-079e-412e-aa7d-eafde9e32713"
      },
      "execution_count": 24,
      "outputs": [
        {
          "output_type": "stream",
          "name": "stdout",
          "text": [
            "Current memory usage: 397952, Peak: 409260\n"
          ]
        }
      ]
    },
    {
      "cell_type": "code",
      "source": [
        "# 17. Write a Python program to create and write a list of numbers to a file, one number per line.\n",
        "\n",
        "with open(\"numbers.txt\", \"w\") as f:\n",
        "    for number in range(10):\n",
        "        f.write(f\"{number}\\n\")\n"
      ],
      "metadata": {
        "id": "MSJNsX0ItgAL"
      },
      "execution_count": 25,
      "outputs": []
    },
    {
      "cell_type": "code",
      "source": [
        "# 18. How would you implement a basic logging setup that logs to a file with rotation after 1MB?\n",
        "\n",
        "import logging\n",
        "from logging.handlers import RotatingFileHandler\n",
        "\n",
        "handler = RotatingFileHandler(\"rotated.log\", maxBytes=1000000, backupCount=1)\n",
        "logging.basicConfig(handlers=[handler], level=logging.INFO)\n",
        "logging.info(\"Log rotation setup complete.\")\n"
      ],
      "metadata": {
        "id": "xLdP1LbXtlAb"
      },
      "execution_count": null,
      "outputs": []
    },
    {
      "cell_type": "code",
      "source": [
        "# 19. Write a program that handles both IndexError and KeyError using a try-except block.\n",
        "try:\n",
        "    my_list = [1, 2]\n",
        "    print(my_list[3])\n",
        "    my_dict = {\"x\": 1}\n",
        "    print(my_dict[\"y\"])\n",
        "except IndexError:\n",
        "    print(\"IndexError occurred.\")\n",
        "except KeyError:\n",
        "    print(\"KeyError occurred.\")\n"
      ],
      "metadata": {
        "colab": {
          "base_uri": "https://localhost:8080/"
        },
        "id": "a3fOVHsMto25",
        "outputId": "958960dc-8142-4a2c-cd3e-cd1af964f4a0"
      },
      "execution_count": 26,
      "outputs": [
        {
          "output_type": "stream",
          "name": "stdout",
          "text": [
            "IndexError occurred.\n"
          ]
        }
      ]
    },
    {
      "cell_type": "code",
      "source": [
        "# 20. How would you open a file and read its contents using a context manager in Python?\n",
        "\n",
        "with open(\"file.txt\", \"r\") as f:\n",
        "    print(f.read())\n"
      ],
      "metadata": {
        "colab": {
          "base_uri": "https://localhost:8080/"
        },
        "id": "Br62lmyOttFm",
        "outputId": "85abb991-cb75-45c0-eedc-ec7f195890c5"
      },
      "execution_count": 30,
      "outputs": [
        {
          "output_type": "stream",
          "name": "stdout",
          "text": [
            "This is the first line.\n",
            "This is the second line.\n",
            "And this is the third line.\n",
            "This is an appended line.\n",
            "This is an appended line.\n",
            "This is an appended line.\n",
            "\n"
          ]
        }
      ]
    },
    {
      "cell_type": "code",
      "source": [
        "# 21. Write a Python program that reads a file and prints the number of occurrences of a specific word.\n",
        "\n",
        "word = \"Python\"\n",
        "with open(\"file.txt\", \"r\") as f:\n",
        "    content = f.read()\n",
        "    print(content.count(word))\n"
      ],
      "metadata": {
        "colab": {
          "base_uri": "https://localhost:8080/"
        },
        "id": "-vO_f9KOtwgC",
        "outputId": "3ab48a98-97e7-4239-e32d-599a9238f577"
      },
      "execution_count": 29,
      "outputs": [
        {
          "output_type": "stream",
          "name": "stdout",
          "text": [
            "0\n"
          ]
        }
      ]
    },
    {
      "cell_type": "code",
      "source": [
        "# 22. How can you check if a file is empty before attempting to read its contents?\n",
        "\n",
        "import os\n",
        "\n",
        "if os.stat(\"file.txt\").st_size == 0:\n",
        "    print(\"File is empty.\")\n",
        "else:\n",
        "    with open(\"file.txt\", \"r\") as f:\n",
        "        print(f.read())\n"
      ],
      "metadata": {
        "colab": {
          "base_uri": "https://localhost:8080/"
        },
        "id": "R0nVJuJet0ML",
        "outputId": "5c546044-5d6b-480d-88e7-93ba28cc6bf1"
      },
      "execution_count": 27,
      "outputs": [
        {
          "output_type": "stream",
          "name": "stdout",
          "text": [
            "This is the first line.\n",
            "This is the second line.\n",
            "And this is the third line.\n",
            "This is an appended line.\n",
            "This is an appended line.\n",
            "This is an appended line.\n",
            "\n"
          ]
        }
      ]
    },
    {
      "cell_type": "code",
      "source": [
        "# 23. Write a Python program that writes to a log file when an error occurs during file handling.\n",
        "import logging\n",
        "\n",
        "logging.basicConfig(filename=\"file_errors.log\", level=logging.ERROR)\n",
        "\n",
        "try:\n",
        "    with open(\"not_found.txt\", \"r\") as f:\n",
        "        content = f.read()\n",
        "except FileNotFoundError as e:\n",
        "    logging.error(\"File not found error: %s\", e)\n",
        "\n"
      ],
      "metadata": {
        "colab": {
          "base_uri": "https://localhost:8080/"
        },
        "id": "lU05rmYmt3YN",
        "outputId": "3b66a8d1-6d93-41bc-f5c4-17783b10b099"
      },
      "execution_count": 28,
      "outputs": [
        {
          "output_type": "stream",
          "name": "stderr",
          "text": [
            "ERROR:root:File not found error: [Errno 2] No such file or directory: 'not_found.txt'\n"
          ]
        }
      ]
    }
  ]
}